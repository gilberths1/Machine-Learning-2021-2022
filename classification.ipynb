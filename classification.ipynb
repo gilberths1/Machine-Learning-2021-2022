{
  "cells": [
    {
      "cell_type": "markdown",
      "source": [
        "\n",
        "\n",
        "*   Nama : Gilbert Hasiholan\n",
        "*   NIM : 2010511140\n",
        "*   Kelas : D - Informatika\n",
        "\n",
        "\n",
        "\n",
        "\n"
      ],
      "metadata": {
        "id": "GqDePKe_quao"
      }
    },
    {
      "cell_type": "markdown",
      "metadata": {
        "id": "WYCFMYKngf2-"
      },
      "source": [
        "**Klasifikasi dataset diabetes dari kaggle**"
      ]
    },
    {
      "cell_type": "markdown",
      "metadata": {
        "id": "5A9jWUzHgjMl"
      },
      "source": [
        "URL dataset : https://www.kaggle.com/datasets/mathchi/diabetes-data-set"
      ]
    },
    {
      "cell_type": "markdown",
      "metadata": {
        "id": "zQ0bJxZ-rIaR"
      },
      "source": [
        "Pertama tama import library yang diperlukan "
      ]
    },
    {
      "cell_type": "code",
      "execution_count": null,
      "metadata": {
        "id": "RSVGhGonRvDM"
      },
      "outputs": [],
      "source": [
        "import pandas as pd\n",
        "import numpy as np"
      ]
    },
    {
      "cell_type": "markdown",
      "metadata": {
        "id": "wk6BfPkhrNaA"
      },
      "source": [
        "Membaca data "
      ]
    },
    {
      "cell_type": "code",
      "execution_count": null,
      "metadata": {
        "colab": {
          "base_uri": "https://localhost:8080/",
          "height": 206
        },
        "id": "8B85WsD7UVy_",
        "outputId": "172a58ec-bc6c-40db-ee1f-e985963f4761"
      },
      "outputs": [
        {
          "output_type": "execute_result",
          "data": {
            "text/plain": [
              "   Pregnancies  Glucose  BloodPressure  SkinThickness  Insulin   BMI  \\\n",
              "0            6      148             72             35        0  33.6   \n",
              "1            1       85             66             29        0  26.6   \n",
              "2            8      183             64              0        0  23.3   \n",
              "3            1       89             66             23       94  28.1   \n",
              "4            0      137             40             35      168  43.1   \n",
              "\n",
              "   DiabetesPedigreeFunction  Age  Outcome  \n",
              "0                     0.627   50        1  \n",
              "1                     0.351   31        0  \n",
              "2                     0.672   32        1  \n",
              "3                     0.167   21        0  \n",
              "4                     2.288   33        1  "
            ],
            "text/html": [
              "\n",
              "  <div id=\"df-48d4f476-369a-4e6b-8565-d52521f5470b\">\n",
              "    <div class=\"colab-df-container\">\n",
              "      <div>\n",
              "<style scoped>\n",
              "    .dataframe tbody tr th:only-of-type {\n",
              "        vertical-align: middle;\n",
              "    }\n",
              "\n",
              "    .dataframe tbody tr th {\n",
              "        vertical-align: top;\n",
              "    }\n",
              "\n",
              "    .dataframe thead th {\n",
              "        text-align: right;\n",
              "    }\n",
              "</style>\n",
              "<table border=\"1\" class=\"dataframe\">\n",
              "  <thead>\n",
              "    <tr style=\"text-align: right;\">\n",
              "      <th></th>\n",
              "      <th>Pregnancies</th>\n",
              "      <th>Glucose</th>\n",
              "      <th>BloodPressure</th>\n",
              "      <th>SkinThickness</th>\n",
              "      <th>Insulin</th>\n",
              "      <th>BMI</th>\n",
              "      <th>DiabetesPedigreeFunction</th>\n",
              "      <th>Age</th>\n",
              "      <th>Outcome</th>\n",
              "    </tr>\n",
              "  </thead>\n",
              "  <tbody>\n",
              "    <tr>\n",
              "      <th>0</th>\n",
              "      <td>6</td>\n",
              "      <td>148</td>\n",
              "      <td>72</td>\n",
              "      <td>35</td>\n",
              "      <td>0</td>\n",
              "      <td>33.6</td>\n",
              "      <td>0.627</td>\n",
              "      <td>50</td>\n",
              "      <td>1</td>\n",
              "    </tr>\n",
              "    <tr>\n",
              "      <th>1</th>\n",
              "      <td>1</td>\n",
              "      <td>85</td>\n",
              "      <td>66</td>\n",
              "      <td>29</td>\n",
              "      <td>0</td>\n",
              "      <td>26.6</td>\n",
              "      <td>0.351</td>\n",
              "      <td>31</td>\n",
              "      <td>0</td>\n",
              "    </tr>\n",
              "    <tr>\n",
              "      <th>2</th>\n",
              "      <td>8</td>\n",
              "      <td>183</td>\n",
              "      <td>64</td>\n",
              "      <td>0</td>\n",
              "      <td>0</td>\n",
              "      <td>23.3</td>\n",
              "      <td>0.672</td>\n",
              "      <td>32</td>\n",
              "      <td>1</td>\n",
              "    </tr>\n",
              "    <tr>\n",
              "      <th>3</th>\n",
              "      <td>1</td>\n",
              "      <td>89</td>\n",
              "      <td>66</td>\n",
              "      <td>23</td>\n",
              "      <td>94</td>\n",
              "      <td>28.1</td>\n",
              "      <td>0.167</td>\n",
              "      <td>21</td>\n",
              "      <td>0</td>\n",
              "    </tr>\n",
              "    <tr>\n",
              "      <th>4</th>\n",
              "      <td>0</td>\n",
              "      <td>137</td>\n",
              "      <td>40</td>\n",
              "      <td>35</td>\n",
              "      <td>168</td>\n",
              "      <td>43.1</td>\n",
              "      <td>2.288</td>\n",
              "      <td>33</td>\n",
              "      <td>1</td>\n",
              "    </tr>\n",
              "  </tbody>\n",
              "</table>\n",
              "</div>\n",
              "      <button class=\"colab-df-convert\" onclick=\"convertToInteractive('df-48d4f476-369a-4e6b-8565-d52521f5470b')\"\n",
              "              title=\"Convert this dataframe to an interactive table.\"\n",
              "              style=\"display:none;\">\n",
              "        \n",
              "  <svg xmlns=\"http://www.w3.org/2000/svg\" height=\"24px\"viewBox=\"0 0 24 24\"\n",
              "       width=\"24px\">\n",
              "    <path d=\"M0 0h24v24H0V0z\" fill=\"none\"/>\n",
              "    <path d=\"M18.56 5.44l.94 2.06.94-2.06 2.06-.94-2.06-.94-.94-2.06-.94 2.06-2.06.94zm-11 1L8.5 8.5l.94-2.06 2.06-.94-2.06-.94L8.5 2.5l-.94 2.06-2.06.94zm10 10l.94 2.06.94-2.06 2.06-.94-2.06-.94-.94-2.06-.94 2.06-2.06.94z\"/><path d=\"M17.41 7.96l-1.37-1.37c-.4-.4-.92-.59-1.43-.59-.52 0-1.04.2-1.43.59L10.3 9.45l-7.72 7.72c-.78.78-.78 2.05 0 2.83L4 21.41c.39.39.9.59 1.41.59.51 0 1.02-.2 1.41-.59l7.78-7.78 2.81-2.81c.8-.78.8-2.07 0-2.86zM5.41 20L4 18.59l7.72-7.72 1.47 1.35L5.41 20z\"/>\n",
              "  </svg>\n",
              "      </button>\n",
              "      \n",
              "  <style>\n",
              "    .colab-df-container {\n",
              "      display:flex;\n",
              "      flex-wrap:wrap;\n",
              "      gap: 12px;\n",
              "    }\n",
              "\n",
              "    .colab-df-convert {\n",
              "      background-color: #E8F0FE;\n",
              "      border: none;\n",
              "      border-radius: 50%;\n",
              "      cursor: pointer;\n",
              "      display: none;\n",
              "      fill: #1967D2;\n",
              "      height: 32px;\n",
              "      padding: 0 0 0 0;\n",
              "      width: 32px;\n",
              "    }\n",
              "\n",
              "    .colab-df-convert:hover {\n",
              "      background-color: #E2EBFA;\n",
              "      box-shadow: 0px 1px 2px rgba(60, 64, 67, 0.3), 0px 1px 3px 1px rgba(60, 64, 67, 0.15);\n",
              "      fill: #174EA6;\n",
              "    }\n",
              "\n",
              "    [theme=dark] .colab-df-convert {\n",
              "      background-color: #3B4455;\n",
              "      fill: #D2E3FC;\n",
              "    }\n",
              "\n",
              "    [theme=dark] .colab-df-convert:hover {\n",
              "      background-color: #434B5C;\n",
              "      box-shadow: 0px 1px 3px 1px rgba(0, 0, 0, 0.15);\n",
              "      filter: drop-shadow(0px 1px 2px rgba(0, 0, 0, 0.3));\n",
              "      fill: #FFFFFF;\n",
              "    }\n",
              "  </style>\n",
              "\n",
              "      <script>\n",
              "        const buttonEl =\n",
              "          document.querySelector('#df-48d4f476-369a-4e6b-8565-d52521f5470b button.colab-df-convert');\n",
              "        buttonEl.style.display =\n",
              "          google.colab.kernel.accessAllowed ? 'block' : 'none';\n",
              "\n",
              "        async function convertToInteractive(key) {\n",
              "          const element = document.querySelector('#df-48d4f476-369a-4e6b-8565-d52521f5470b');\n",
              "          const dataTable =\n",
              "            await google.colab.kernel.invokeFunction('convertToInteractive',\n",
              "                                                     [key], {});\n",
              "          if (!dataTable) return;\n",
              "\n",
              "          const docLinkHtml = 'Like what you see? Visit the ' +\n",
              "            '<a target=\"_blank\" href=https://colab.research.google.com/notebooks/data_table.ipynb>data table notebook</a>'\n",
              "            + ' to learn more about interactive tables.';\n",
              "          element.innerHTML = '';\n",
              "          dataTable['output_type'] = 'display_data';\n",
              "          await google.colab.output.renderOutput(dataTable, element);\n",
              "          const docLink = document.createElement('div');\n",
              "          docLink.innerHTML = docLinkHtml;\n",
              "          element.appendChild(docLink);\n",
              "        }\n",
              "      </script>\n",
              "    </div>\n",
              "  </div>\n",
              "  "
            ]
          },
          "metadata": {},
          "execution_count": 2
        }
      ],
      "source": [
        "data=pd.read_csv(\"diabetes.csv\")\n",
        "data.head()"
      ]
    },
    {
      "cell_type": "markdown",
      "metadata": {
        "id": "F-U3UG4As3do"
      },
      "source": [
        "*   **DESKRIPSI DATA**\n",
        "*   Pregnancies :Berapa kali hamil\n",
        "*   Glucose : Konsentrasi glukosa plasma 2 jam dalam tes toleransi glukosa oral\n",
        "*   BloodPressure : Tekanan darah diastolik (mm Hg)\n",
        "*   SkinThickness : Ketebalan lipatan kulit trisep (mm)\n",
        "*   Insulin : Insulin serum 2 jam (mu U/ml)\n",
        "*   BMI : Body mass index (berat dalam kg/(tinggi dalam m)^2)\n",
        "*   DiabetesPedigreeFunction : Fungsi silsilah diabetes\n",
        "*   Age : Umur dalam satuan tahun\n",
        "*   Outcome :Variabel kelas (0 atau 1),1 untuk diabetik dan 0 untuk non diabetik. 268 dari 768 adalah 1, yang lainnya adalah 0\n"
      ]
    },
    {
      "cell_type": "markdown",
      "metadata": {
        "id": "uzPFevoxrTFf"
      },
      "source": [
        "Cek data mana yang memiliki nilai 0"
      ]
    },
    {
      "cell_type": "code",
      "execution_count": null,
      "metadata": {
        "colab": {
          "base_uri": "https://localhost:8080/"
        },
        "id": "Omqf5B3BU6tJ",
        "outputId": "1cdf60d1-3d53-4dca-83f6-13892b638119"
      },
      "outputs": [
        {
          "output_type": "execute_result",
          "data": {
            "text/plain": [
              "Pregnancies                 111\n",
              "Glucose                       5\n",
              "BloodPressure                35\n",
              "SkinThickness               227\n",
              "Insulin                     374\n",
              "BMI                          11\n",
              "DiabetesPedigreeFunction      0\n",
              "Age                           0\n",
              "Outcome                     500\n",
              "dtype: int64"
            ]
          },
          "metadata": {},
          "execution_count": 3
        }
      ],
      "source": [
        "count = (data == 0).sum()\n",
        "count"
      ]
    },
    {
      "cell_type": "markdown",
      "source": [
        ""
      ],
      "metadata": {
        "id": "Xa0Hze8QqsKZ"
      }
    },
    {
      "cell_type": "markdown",
      "metadata": {
        "id": "JFt9i6o7vL5B"
      },
      "source": [
        "Dari deskripsi data tersebut, terdapat yang menurut saya tidak masuk akal. Menurut saya, tekanan darah diastolik dan BMI tidak mungkin bernilai 0, jadi saya anggap noise dan saya drop baris yang memiliki nilai BMI atau BloodPressure 0 "
      ]
    },
    {
      "cell_type": "code",
      "execution_count": null,
      "metadata": {
        "colab": {
          "base_uri": "https://localhost:8080/"
        },
        "id": "rNpBZ_N0r_Fa",
        "outputId": "a7a97941-b5ad-47dc-d0c0-88017fb29a9d"
      },
      "outputs": [
        {
          "output_type": "execute_result",
          "data": {
            "text/plain": [
              "Pregnancies                  99\n",
              "Glucose                       5\n",
              "BloodPressure                 0\n",
              "SkinThickness               192\n",
              "Insulin                     336\n",
              "BMI                           0\n",
              "DiabetesPedigreeFunction      0\n",
              "Age                           0\n",
              "Outcome                     478\n",
              "dtype: int64"
            ]
          },
          "metadata": {},
          "execution_count": 4
        }
      ],
      "source": [
        "data.drop(data.loc[data['BMI']==0].index, inplace=True)\n",
        "data.drop(data.loc[data['BloodPressure']==0].index, inplace=True)\n",
        "count = (data == 0).sum()\n",
        "count"
      ]
    },
    {
      "cell_type": "markdown",
      "metadata": {
        "id": "O9txL6-QviBA"
      },
      "source": [
        "Selanjutnya saya normalisasi data dengann metode 0-1"
      ]
    },
    {
      "cell_type": "code",
      "execution_count": null,
      "metadata": {
        "colab": {
          "base_uri": "https://localhost:8080/",
          "height": 206
        },
        "id": "D0urwMlmVGno",
        "outputId": "3bd7ff10-ccab-4c82-a508-7229a0b7e24a"
      },
      "outputs": [
        {
          "output_type": "execute_result",
          "data": {
            "text/plain": [
              "   Pregnancies   Glucose  BloodPressure  SkinThickness   Insulin       BMI  \\\n",
              "0     0.352941  0.743719       0.489796       0.353535  0.000000  0.314928   \n",
              "1     0.058824  0.427136       0.428571       0.292929  0.000000  0.171779   \n",
              "2     0.470588  0.919598       0.408163       0.000000  0.000000  0.104294   \n",
              "3     0.058824  0.447236       0.428571       0.232323  0.111111  0.202454   \n",
              "4     0.000000  0.688442       0.163265       0.353535  0.198582  0.509202   \n",
              "\n",
              "   DiabetesPedigreeFunction       Age  Outcome  \n",
              "0                  0.234415  0.483333        1  \n",
              "1                  0.116567  0.166667        0  \n",
              "2                  0.253629  0.183333        1  \n",
              "3                  0.038002  0.000000        0  \n",
              "4                  0.943638  0.200000        1  "
            ],
            "text/html": [
              "\n",
              "  <div id=\"df-ee23b108-3523-4f1d-97d8-9deef2b24851\">\n",
              "    <div class=\"colab-df-container\">\n",
              "      <div>\n",
              "<style scoped>\n",
              "    .dataframe tbody tr th:only-of-type {\n",
              "        vertical-align: middle;\n",
              "    }\n",
              "\n",
              "    .dataframe tbody tr th {\n",
              "        vertical-align: top;\n",
              "    }\n",
              "\n",
              "    .dataframe thead th {\n",
              "        text-align: right;\n",
              "    }\n",
              "</style>\n",
              "<table border=\"1\" class=\"dataframe\">\n",
              "  <thead>\n",
              "    <tr style=\"text-align: right;\">\n",
              "      <th></th>\n",
              "      <th>Pregnancies</th>\n",
              "      <th>Glucose</th>\n",
              "      <th>BloodPressure</th>\n",
              "      <th>SkinThickness</th>\n",
              "      <th>Insulin</th>\n",
              "      <th>BMI</th>\n",
              "      <th>DiabetesPedigreeFunction</th>\n",
              "      <th>Age</th>\n",
              "      <th>Outcome</th>\n",
              "    </tr>\n",
              "  </thead>\n",
              "  <tbody>\n",
              "    <tr>\n",
              "      <th>0</th>\n",
              "      <td>0.352941</td>\n",
              "      <td>0.743719</td>\n",
              "      <td>0.489796</td>\n",
              "      <td>0.353535</td>\n",
              "      <td>0.000000</td>\n",
              "      <td>0.314928</td>\n",
              "      <td>0.234415</td>\n",
              "      <td>0.483333</td>\n",
              "      <td>1</td>\n",
              "    </tr>\n",
              "    <tr>\n",
              "      <th>1</th>\n",
              "      <td>0.058824</td>\n",
              "      <td>0.427136</td>\n",
              "      <td>0.428571</td>\n",
              "      <td>0.292929</td>\n",
              "      <td>0.000000</td>\n",
              "      <td>0.171779</td>\n",
              "      <td>0.116567</td>\n",
              "      <td>0.166667</td>\n",
              "      <td>0</td>\n",
              "    </tr>\n",
              "    <tr>\n",
              "      <th>2</th>\n",
              "      <td>0.470588</td>\n",
              "      <td>0.919598</td>\n",
              "      <td>0.408163</td>\n",
              "      <td>0.000000</td>\n",
              "      <td>0.000000</td>\n",
              "      <td>0.104294</td>\n",
              "      <td>0.253629</td>\n",
              "      <td>0.183333</td>\n",
              "      <td>1</td>\n",
              "    </tr>\n",
              "    <tr>\n",
              "      <th>3</th>\n",
              "      <td>0.058824</td>\n",
              "      <td>0.447236</td>\n",
              "      <td>0.428571</td>\n",
              "      <td>0.232323</td>\n",
              "      <td>0.111111</td>\n",
              "      <td>0.202454</td>\n",
              "      <td>0.038002</td>\n",
              "      <td>0.000000</td>\n",
              "      <td>0</td>\n",
              "    </tr>\n",
              "    <tr>\n",
              "      <th>4</th>\n",
              "      <td>0.000000</td>\n",
              "      <td>0.688442</td>\n",
              "      <td>0.163265</td>\n",
              "      <td>0.353535</td>\n",
              "      <td>0.198582</td>\n",
              "      <td>0.509202</td>\n",
              "      <td>0.943638</td>\n",
              "      <td>0.200000</td>\n",
              "      <td>1</td>\n",
              "    </tr>\n",
              "  </tbody>\n",
              "</table>\n",
              "</div>\n",
              "      <button class=\"colab-df-convert\" onclick=\"convertToInteractive('df-ee23b108-3523-4f1d-97d8-9deef2b24851')\"\n",
              "              title=\"Convert this dataframe to an interactive table.\"\n",
              "              style=\"display:none;\">\n",
              "        \n",
              "  <svg xmlns=\"http://www.w3.org/2000/svg\" height=\"24px\"viewBox=\"0 0 24 24\"\n",
              "       width=\"24px\">\n",
              "    <path d=\"M0 0h24v24H0V0z\" fill=\"none\"/>\n",
              "    <path d=\"M18.56 5.44l.94 2.06.94-2.06 2.06-.94-2.06-.94-.94-2.06-.94 2.06-2.06.94zm-11 1L8.5 8.5l.94-2.06 2.06-.94-2.06-.94L8.5 2.5l-.94 2.06-2.06.94zm10 10l.94 2.06.94-2.06 2.06-.94-2.06-.94-.94-2.06-.94 2.06-2.06.94z\"/><path d=\"M17.41 7.96l-1.37-1.37c-.4-.4-.92-.59-1.43-.59-.52 0-1.04.2-1.43.59L10.3 9.45l-7.72 7.72c-.78.78-.78 2.05 0 2.83L4 21.41c.39.39.9.59 1.41.59.51 0 1.02-.2 1.41-.59l7.78-7.78 2.81-2.81c.8-.78.8-2.07 0-2.86zM5.41 20L4 18.59l7.72-7.72 1.47 1.35L5.41 20z\"/>\n",
              "  </svg>\n",
              "      </button>\n",
              "      \n",
              "  <style>\n",
              "    .colab-df-container {\n",
              "      display:flex;\n",
              "      flex-wrap:wrap;\n",
              "      gap: 12px;\n",
              "    }\n",
              "\n",
              "    .colab-df-convert {\n",
              "      background-color: #E8F0FE;\n",
              "      border: none;\n",
              "      border-radius: 50%;\n",
              "      cursor: pointer;\n",
              "      display: none;\n",
              "      fill: #1967D2;\n",
              "      height: 32px;\n",
              "      padding: 0 0 0 0;\n",
              "      width: 32px;\n",
              "    }\n",
              "\n",
              "    .colab-df-convert:hover {\n",
              "      background-color: #E2EBFA;\n",
              "      box-shadow: 0px 1px 2px rgba(60, 64, 67, 0.3), 0px 1px 3px 1px rgba(60, 64, 67, 0.15);\n",
              "      fill: #174EA6;\n",
              "    }\n",
              "\n",
              "    [theme=dark] .colab-df-convert {\n",
              "      background-color: #3B4455;\n",
              "      fill: #D2E3FC;\n",
              "    }\n",
              "\n",
              "    [theme=dark] .colab-df-convert:hover {\n",
              "      background-color: #434B5C;\n",
              "      box-shadow: 0px 1px 3px 1px rgba(0, 0, 0, 0.15);\n",
              "      filter: drop-shadow(0px 1px 2px rgba(0, 0, 0, 0.3));\n",
              "      fill: #FFFFFF;\n",
              "    }\n",
              "  </style>\n",
              "\n",
              "      <script>\n",
              "        const buttonEl =\n",
              "          document.querySelector('#df-ee23b108-3523-4f1d-97d8-9deef2b24851 button.colab-df-convert');\n",
              "        buttonEl.style.display =\n",
              "          google.colab.kernel.accessAllowed ? 'block' : 'none';\n",
              "\n",
              "        async function convertToInteractive(key) {\n",
              "          const element = document.querySelector('#df-ee23b108-3523-4f1d-97d8-9deef2b24851');\n",
              "          const dataTable =\n",
              "            await google.colab.kernel.invokeFunction('convertToInteractive',\n",
              "                                                     [key], {});\n",
              "          if (!dataTable) return;\n",
              "\n",
              "          const docLinkHtml = 'Like what you see? Visit the ' +\n",
              "            '<a target=\"_blank\" href=https://colab.research.google.com/notebooks/data_table.ipynb>data table notebook</a>'\n",
              "            + ' to learn more about interactive tables.';\n",
              "          element.innerHTML = '';\n",
              "          dataTable['output_type'] = 'display_data';\n",
              "          await google.colab.output.renderOutput(dataTable, element);\n",
              "          const docLink = document.createElement('div');\n",
              "          docLink.innerHTML = docLinkHtml;\n",
              "          element.appendChild(docLink);\n",
              "        }\n",
              "      </script>\n",
              "    </div>\n",
              "  </div>\n",
              "  "
            ]
          },
          "metadata": {},
          "execution_count": 5
        }
      ],
      "source": [
        "data['Pregnancies'] = (data['Pregnancies']-data['Pregnancies'].min())/(data['Pregnancies'].max()-data['Pregnancies'].min())*(1-0)+0\n",
        "data['Glucose'] = (data['Glucose']-data['Glucose'].min())/(data['Glucose'].max()-data['Glucose'].min())*(1-0)+0\n",
        "data['BloodPressure'] = (data['BloodPressure']-data['BloodPressure'].min())/(data['BloodPressure'].max()-data['BloodPressure'].min())*(1-0)+0\n",
        "data['SkinThickness'] = (data['SkinThickness']-data['SkinThickness'].min())/(data['SkinThickness'].max()-data['SkinThickness'].min())*(1-0)+0\n",
        "data['Insulin'] = (data['Insulin']-data['Insulin'].min())/(data['Insulin'].max()-data['Insulin'].min())*(1-0)+0\n",
        "data['BMI'] = (data['BMI']-data['BMI'].min())/(data['BMI'].max()-data['BMI'].min())*(1-0)+0\n",
        "data['DiabetesPedigreeFunction'] = (data['DiabetesPedigreeFunction']-data['DiabetesPedigreeFunction'].min())/(data['DiabetesPedigreeFunction'].max()-data['DiabetesPedigreeFunction'].min())*(1-0)+0\n",
        "data['Age'] = (data['Age']-data['Age'].min())/(data['Age'].max()-data['Age'].min())*(1-0)+0\n",
        "data.head()"
      ]
    },
    {
      "cell_type": "markdown",
      "metadata": {
        "id": "YE6fxSm7wHvN"
      },
      "source": [
        "Selanjutnya saya pisahkan antara fitur dan kelas"
      ]
    },
    {
      "cell_type": "code",
      "execution_count": null,
      "metadata": {
        "id": "ZYz1TsRnjMaH"
      },
      "outputs": [],
      "source": [
        "x=[\"Pregnancies\",\"Glucose\",\"BloodPressure\",\"SkinThickness\",\"Insulin\",\"BMI\",\"DiabetesPedigreeFunction\",\"Age\"]\n",
        "y=['Outcome']\n",
        "fitur=data[x]\n",
        "kelas=data[y]"
      ]
    },
    {
      "cell_type": "markdown",
      "metadata": {
        "id": "1ZUTpBhzwKgL"
      },
      "source": [
        "Selanjutnya saya cek apakah data kelas balanced atau imbalanced"
      ]
    },
    {
      "cell_type": "code",
      "execution_count": null,
      "metadata": {
        "colab": {
          "base_uri": "https://localhost:8080/"
        },
        "id": "7fjyktlhw2jN",
        "outputId": "e430db96-6b07-4941-9375-9c4e1b09fe15"
      },
      "outputs": [
        {
          "output_type": "stream",
          "name": "stdout",
          "text": [
            "Jumlah class 0 =  Outcome    478\n",
            "dtype: int64\n",
            "Jumlah class 1 =  Outcome    251\n",
            "dtype: int64\n"
          ]
        }
      ],
      "source": [
        "countClass0 = (kelas == 0).sum()\n",
        "countClass1 = (kelas == 1).sum()\n",
        "print(\"Jumlah class 0 = \",countClass0)\n",
        "print(\"Jumlah class 1 = \",countClass1)"
      ]
    },
    {
      "cell_type": "code",
      "execution_count": null,
      "metadata": {
        "colab": {
          "base_uri": "https://localhost:8080/",
          "height": 264
        },
        "id": "3EN9zzrXjIjU",
        "outputId": "07a4a46c-3dc6-44eb-ca93-bebf59d1e08d"
      },
      "outputs": [
        {
          "output_type": "display_data",
          "data": {
            "text/plain": [
              "<Figure size 432x288 with 1 Axes>"
            ],
            "image/png": "[encoded data removed]"
          },
          "metadata": {}
        }
      ],
      "source": [
        "ax=kelas.value_counts().plot.pie(autopct='%.2f')\n",
        "_=ax.set_title(\"sebelum undersampling\")"
      ]
    },
    {
      "cell_type": "markdown",
      "metadata": {
        "id": "LrVwqBzUwQfX"
      },
      "source": [
        "Setelah dicek, dapat terlihat bahwa data imbalanced dengan kelas 1 sebanyak 34.43% dan data kelas 0 65.57%. Hal ini dapat menyebabkan overfitting"
      ]
    },
    {
      "cell_type": "markdown",
      "metadata": {
        "id": "5-dNEXV8wdeJ"
      },
      "source": [
        "Untuk menghandle imbalanced data terdapat beberapa cara, seperti oversampling dan undersampling dengan tujuan jumlah kelas mayoritas menjadi sama dengan kelas minoritas dengan mengurangi ukuran kelas mayoritas. Saya memilih untuk menggunakan metode undersampling nearmiss karena saat saya coba, akurasi tidak berubah (tetap)."
      ]
    },
    {
      "cell_type": "markdown",
      "source": [
        "'"
      ],
      "metadata": {
        "id": "1tpoJ40grSLa"
      }
    },
    {
      "cell_type": "code",
      "execution_count": null,
      "metadata": {
        "colab": {
          "base_uri": "https://localhost:8080/",
          "height": 264
        },
        "id": "6nIUD8nDhMYi",
        "outputId": "05f78bd7-0d73-4c69-ca89-da8ae86a373e"
      },
      "outputs": [
        {
          "output_type": "display_data",
          "data": {
            "text/plain": [
              "<Figure size 432x288 with 1 Axes>"
            ],
            "image/png": "[encoded data removed]"
          },
          "metadata": {}
        }
      ],
      "source": [
        "from imblearn.under_sampling import NearMiss\n",
        "\n",
        "nm = NearMiss()\n",
        "x_res, y_res=nm.fit_resample(fitur, kelas)\n",
        "\n",
        "ax=y_res.value_counts().plot.pie(autopct='%.2f')\n",
        "_=ax.set_title(\"Setelah UnderSampling\")"
      ]
    },
    {
      "cell_type": "code",
      "execution_count": null,
      "metadata": {
        "colab": {
          "base_uri": "https://localhost:8080/"
        },
        "id": "hne69WUMxLsd",
        "outputId": "46e8ad4b-eb30-43f9-b9ad-ace87f02c03c"
      },
      "outputs": [
        {
          "output_type": "stream",
          "name": "stdout",
          "text": [
            "Jumlah class 0 =  Outcome    251\n",
            "dtype: int64\n",
            "Jumlah class 1 =  Outcome    251\n",
            "dtype: int64\n"
          ]
        }
      ],
      "source": [
        "countClass0 = (y_res == 0).sum()\n",
        "countClass1 = (y_res == 1).sum()\n",
        "print(\"Jumlah class 0 = \",countClass0)\n",
        "print(\"Jumlah class 1 = \",countClass1)"
      ]
    },
    {
      "cell_type": "markdown",
      "metadata": {
        "id": "uHMZl3lCy2_T"
      },
      "source": [
        "Pada hasil undersampling maka klas data yang memiliki presentasi akan diturunkan sehingga menjadi sama dengan data yang memiliki presentasi rendah sehingga memiliki presentasi yang sama 50% dan jumlah yang sama 251"
      ]
    },
    {
      "cell_type": "markdown",
      "metadata": {
        "id": "BVvXky6Y0dGt"
      },
      "source": [
        "Selanjutnya saya memisahkan data untuk training dan untuk testing, untuk training 70% dan untuk testing 30% dari data hasil undersampling"
      ]
    },
    {
      "cell_type": "code",
      "execution_count": null,
      "metadata": {
        "id": "_lGSFh6hWVyR"
      },
      "outputs": [],
      "source": [
        "from sklearn.model_selection import train_test_split\n",
        "X_train, X_test, Y_train, Y_test = train_test_split(x_res, y_res, test_size=0.3, random_state=0)"
      ]
    },
    {
      "cell_type": "markdown",
      "metadata": {
        "id": "3FHHTQHj57mB"
      },
      "source": [
        "# SVM"
      ]
    },
    {
      "cell_type": "markdown",
      "metadata": {
        "id": "kYIPpm194IJE"
      },
      "source": [
        "Selanjutnya membuat model Support Vector Machine\n",
        "\n"
      ]
    },
    {
      "cell_type": "code",
      "execution_count": null,
      "metadata": {
        "colab": {
          "base_uri": "https://localhost:8080/"
        },
        "id": "lfxUeJJCWprw",
        "outputId": "71d7a2d3-e3d1-4eb5-f195-72440aebe764"
      },
      "outputs": [
        {
          "output_type": "execute_result",
          "data": {
            "text/plain": [
              "array([[0.52941176, 0.61809045, 0.46938776, ..., 0.30470348, 0.1263877 ,\n",
              "        0.31666667],\n",
              "       [0.29411765, 0.61306533, 0.63265306, ..., 0.33742331, 0.09052092,\n",
              "        0.2       ],\n",
              "       [0.52941176, 0.77386935, 0.55102041, ..., 0.2597137 , 0.03672075,\n",
              "        0.4       ],\n",
              "       ...,\n",
              "       [0.41176471, 0.57286432, 0.42857143, ..., 0.29856851, 0.07685739,\n",
              "        0.35      ],\n",
              "       [0.29411765, 0.57788945, 0.75510204, ..., 0.70961145, 0.0559351 ,\n",
              "        0.11666667],\n",
              "       [0.29411765, 0.81407035, 0.81632653, ..., 0.39877301, 0.03116994,\n",
              "        0.51666667]])"
            ]
          },
          "metadata": {},
          "execution_count": 12
        }
      ],
      "source": [
        "from sklearn.svm import SVC\n",
        "model = SVC()\n",
        "model.fit(X_train, Y_train.values.ravel())\n",
        "model.support_vectors_"
      ]
    },
    {
      "cell_type": "markdown",
      "metadata": {
        "id": "yqmfQ6j54Qzo"
      },
      "source": [
        "Menghitung F1 Score"
      ]
    },
    {
      "cell_type": "code",
      "execution_count": null,
      "metadata": {
        "colab": {
          "base_uri": "https://localhost:8080/"
        },
        "id": "NHMQ24EoWtNv",
        "outputId": "c9c077c9-9679-4331-c9fd-f5481a7c7be7"
      },
      "outputs": [
        {
          "output_type": "execute_result",
          "data": {
            "text/plain": [
              "0.7534246575342466"
            ]
          },
          "metadata": {},
          "execution_count": 13
        }
      ],
      "source": [
        "from sklearn.metrics import f1_score\n",
        "y_pred = model.predict(X_test)\n",
        "f1=f1_score(Y_test,y_pred)\n",
        "f1"
      ]
    },
    {
      "cell_type": "markdown",
      "metadata": {
        "id": "b2vU1Ktp4SZ_"
      },
      "source": [
        "Menghitung Akurasi"
      ]
    },
    {
      "cell_type": "code",
      "execution_count": null,
      "metadata": {
        "colab": {
          "base_uri": "https://localhost:8080/"
        },
        "id": "pfRqQjGHjhr7",
        "outputId": "42e6d8f3-02f9-4fc2-ced0-342bb2f47049"
      },
      "outputs": [
        {
          "output_type": "stream",
          "name": "stdout",
          "text": [
            "Accuracy: 0.7615894039735099\n"
          ]
        }
      ],
      "source": [
        "from sklearn import metrics\n",
        "y_pred = model.predict(X_test)\n",
        "print(\"Accuracy:\",metrics.accuracy_score(Y_test, y_pred))"
      ]
    },
    {
      "cell_type": "markdown",
      "metadata": {
        "id": "teqn3raD6AqK"
      },
      "source": [
        "# K-NN"
      ]
    },
    {
      "cell_type": "markdown",
      "metadata": {
        "id": "IDF7sUyKIk4R"
      },
      "source": [
        "Menggunakan K-NN dengan mencoba nilai n dari 1-20 dan mendapatkan hasil akurasi maksimumnya"
      ]
    },
    {
      "cell_type": "code",
      "execution_count": null,
      "metadata": {
        "colab": {
          "base_uri": "https://localhost:8080/"
        },
        "id": "qLN6qQm16FdD",
        "outputId": "fe09e59e-cdfe-40b6-8d33-6427379d918e"
      },
      "outputs": [
        {
          "output_type": "stream",
          "name": "stdout",
          "text": [
            "Max Accuracy :  0.7218543046357616 dengan n=  5\n"
          ]
        }
      ],
      "source": [
        "from sklearn.neighbors import KNeighborsClassifier\n",
        "acc=0\n",
        "n_max=0\n",
        "for n in range(1,20):\n",
        "  neigh = KNeighborsClassifier(n_neighbors = n).fit(X_train,Y_train.values.ravel())\n",
        "  yhat=neigh.predict(X_test)\n",
        "  x=metrics.accuracy_score(Y_test, yhat)\n",
        "  if(x>acc):\n",
        "    acc=x\n",
        "    n_max=n\n",
        "print(\"Max Accuracy : \",acc,\"dengan n= \",n_max)"
      ]
    },
    {
      "cell_type": "markdown",
      "metadata": {
        "id": "mlWMqVzdI984"
      },
      "source": [
        "# ANN"
      ]
    },
    {
      "cell_type": "markdown",
      "metadata": {
        "id": "SOY75sdBYaxL"
      },
      "source": [
        "menggunakan 2\n",
        "hidden layer dengan masing-masing 10 neuron dengan fungsi aktivasi logistic"
      ]
    },
    {
      "cell_type": "code",
      "execution_count": null,
      "metadata": {
        "colab": {
          "base_uri": "https://localhost:8080/"
        },
        "id": "jHaDbxSSDFVf",
        "outputId": "0038b380-74f0-40a0-c9e2-9429ed1f2957"
      },
      "outputs": [
        {
          "output_type": "stream",
          "name": "stderr",
          "text": [
            "/usr/local/lib/python3.7/dist-packages/sklearn/neural_network/_multilayer_perceptron.py:549: ConvergenceWarning: lbfgs failed to converge (status=1):\n",
            "STOP: TOTAL NO. of ITERATIONS REACHED LIMIT.\n",
            "\n",
            "Increase the number of iterations (max_iter) or scale the data as shown in:\n",
            "    https://scikit-learn.org/stable/modules/preprocessing.html\n",
            "  self.n_iter_ = _check_optimize_result(\"lbfgs\", opt_res, self.max_iter)\n"
          ]
        },
        {
          "output_type": "execute_result",
          "data": {
            "text/plain": [
              "MLPClassifier(activation='logistic', alpha=1e-05, hidden_layer_sizes=(10, 10),\n",
              "              max_iter=1000, random_state=0, solver='lbfgs')"
            ]
          },
          "metadata": {},
          "execution_count": 16
        }
      ],
      "source": [
        "from sklearn.neural_network import MLPClassifier\n",
        "clf = MLPClassifier(activation='logistic', solver='lbfgs', alpha=1e-5,\n",
        " hidden_layer_sizes=(10, 10),random_state=0, max_iter=1000)\n",
        "clf.fit(X_train, Y_train.values.ravel())"
      ]
    },
    {
      "cell_type": "code",
      "execution_count": null,
      "metadata": {
        "colab": {
          "base_uri": "https://localhost:8080/"
        },
        "id": "K7ZXOmZGIK4D",
        "outputId": "c8d5c626-d12d-4329-ccbd-cdecb03ee1ee"
      },
      "outputs": [
        {
          "output_type": "execute_result",
          "data": {
            "text/plain": [
              "0.9629629629629629"
            ]
          },
          "metadata": {},
          "execution_count": 17
        }
      ],
      "source": [
        "from sklearn.metrics import accuracy_score\n",
        "ymodel=clf.predict(X_train)\n",
        "accuracy_score(Y_train,ymodel)"
      ]
    },
    {
      "cell_type": "markdown",
      "metadata": {
        "id": "KbvVxRmjgrqk"
      },
      "source": [
        "dari hasil forum kaggle, kebanyakan hasil akurasi untuk dataset diabetes ini berkisaran 70%-78%, jadi saya mencoba untuk menggunakan dataset lain."
      ]
    },
    {
      "cell_type": "markdown",
      "metadata": {
        "id": "SnbMOuJ2hIf_"
      },
      "source": [
        "**Klasifikasi dalam asteroseismologi**"
      ]
    },
    {
      "cell_type": "markdown",
      "metadata": {
        "id": "3tywNgjKhKlP"
      },
      "source": [
        "URL DataSet : https://www.kaggle.com/datasets/fernandolima23/classification-in-asteroseismology"
      ]
    },
    {
      "cell_type": "markdown",
      "metadata": {
        "id": "06nAC9oUhM0-"
      },
      "source": [
        "Membaca data"
      ]
    },
    {
      "cell_type": "code",
      "execution_count": null,
      "metadata": {
        "colab": {
          "base_uri": "https://localhost:8080/",
          "height": 206
        },
        "id": "sI1vzRSChC2P",
        "outputId": "65f56798-69a4-487d-c1bb-c4e20addc9ff"
      },
      "outputs": [
        {
          "output_type": "execute_result",
          "data": {
            "text/plain": [
              "   POP       Dnu      numax  epsilon\n",
              "0    1   4.44780   43.06289    0.985\n",
              "1    0   6.94399   74.07646    0.150\n",
              "2    1   2.64571   21.57891    0.855\n",
              "3    1   4.24168   32.13189    0.840\n",
              "4    0  10.44719  120.37356    0.275"
            ],
            "text/html": [
              "\n",
              "  <div id=\"df-10e35340-84d2-4544-80d0-4c522f5d53f5\">\n",
              "    <div class=\"colab-df-container\">\n",
              "      <div>\n",
              "<style scoped>\n",
              "    .dataframe tbody tr th:only-of-type {\n",
              "        vertical-align: middle;\n",
              "    }\n",
              "\n",
              "    .dataframe tbody tr th {\n",
              "        vertical-align: top;\n",
              "    }\n",
              "\n",
              "    .dataframe thead th {\n",
              "        text-align: right;\n",
              "    }\n",
              "</style>\n",
              "<table border=\"1\" class=\"dataframe\">\n",
              "  <thead>\n",
              "    <tr style=\"text-align: right;\">\n",
              "      <th></th>\n",
              "      <th>POP</th>\n",
              "      <th>Dnu</th>\n",
              "      <th>numax</th>\n",
              "      <th>epsilon</th>\n",
              "    </tr>\n",
              "  </thead>\n",
              "  <tbody>\n",
              "    <tr>\n",
              "      <th>0</th>\n",
              "      <td>1</td>\n",
              "      <td>4.44780</td>\n",
              "      <td>43.06289</td>\n",
              "      <td>0.985</td>\n",
              "    </tr>\n",
              "    <tr>\n",
              "      <th>1</th>\n",
              "      <td>0</td>\n",
              "      <td>6.94399</td>\n",
              "      <td>74.07646</td>\n",
              "      <td>0.150</td>\n",
              "    </tr>\n",
              "    <tr>\n",
              "      <th>2</th>\n",
              "      <td>1</td>\n",
              "      <td>2.64571</td>\n",
              "      <td>21.57891</td>\n",
              "      <td>0.855</td>\n",
              "    </tr>\n",
              "    <tr>\n",
              "      <th>3</th>\n",
              "      <td>1</td>\n",
              "      <td>4.24168</td>\n",
              "      <td>32.13189</td>\n",
              "      <td>0.840</td>\n",
              "    </tr>\n",
              "    <tr>\n",
              "      <th>4</th>\n",
              "      <td>0</td>\n",
              "      <td>10.44719</td>\n",
              "      <td>120.37356</td>\n",
              "      <td>0.275</td>\n",
              "    </tr>\n",
              "  </tbody>\n",
              "</table>\n",
              "</div>\n",
              "      <button class=\"colab-df-convert\" onclick=\"convertToInteractive('df-10e35340-84d2-4544-80d0-4c522f5d53f5')\"\n",
              "              title=\"Convert this dataframe to an interactive table.\"\n",
              "              style=\"display:none;\">\n",
              "        \n",
              "  <svg xmlns=\"http://www.w3.org/2000/svg\" height=\"24px\"viewBox=\"0 0 24 24\"\n",
              "       width=\"24px\">\n",
              "    <path d=\"M0 0h24v24H0V0z\" fill=\"none\"/>\n",
              "    <path d=\"M18.56 5.44l.94 2.06.94-2.06 2.06-.94-2.06-.94-.94-2.06-.94 2.06-2.06.94zm-11 1L8.5 8.5l.94-2.06 2.06-.94-2.06-.94L8.5 2.5l-.94 2.06-2.06.94zm10 10l.94 2.06.94-2.06 2.06-.94-2.06-.94-.94-2.06-.94 2.06-2.06.94z\"/><path d=\"M17.41 7.96l-1.37-1.37c-.4-.4-.92-.59-1.43-.59-.52 0-1.04.2-1.43.59L10.3 9.45l-7.72 7.72c-.78.78-.78 2.05 0 2.83L4 21.41c.39.39.9.59 1.41.59.51 0 1.02-.2 1.41-.59l7.78-7.78 2.81-2.81c.8-.78.8-2.07 0-2.86zM5.41 20L4 18.59l7.72-7.72 1.47 1.35L5.41 20z\"/>\n",
              "  </svg>\n",
              "      </button>\n",
              "      \n",
              "  <style>\n",
              "    .colab-df-container {\n",
              "      display:flex;\n",
              "      flex-wrap:wrap;\n",
              "      gap: 12px;\n",
              "    }\n",
              "\n",
              "    .colab-df-convert {\n",
              "      background-color: #E8F0FE;\n",
              "      border: none;\n",
              "      border-radius: 50%;\n",
              "      cursor: pointer;\n",
              "      display: none;\n",
              "      fill: #1967D2;\n",
              "      height: 32px;\n",
              "      padding: 0 0 0 0;\n",
              "      width: 32px;\n",
              "    }\n",
              "\n",
              "    .colab-df-convert:hover {\n",
              "      background-color: #E2EBFA;\n",
              "      box-shadow: 0px 1px 2px rgba(60, 64, 67, 0.3), 0px 1px 3px 1px rgba(60, 64, 67, 0.15);\n",
              "      fill: #174EA6;\n",
              "    }\n",
              "\n",
              "    [theme=dark] .colab-df-convert {\n",
              "      background-color: #3B4455;\n",
              "      fill: #D2E3FC;\n",
              "    }\n",
              "\n",
              "    [theme=dark] .colab-df-convert:hover {\n",
              "      background-color: #434B5C;\n",
              "      box-shadow: 0px 1px 3px 1px rgba(0, 0, 0, 0.15);\n",
              "      filter: drop-shadow(0px 1px 2px rgba(0, 0, 0, 0.3));\n",
              "      fill: #FFFFFF;\n",
              "    }\n",
              "  </style>\n",
              "\n",
              "      <script>\n",
              "        const buttonEl =\n",
              "          document.querySelector('#df-10e35340-84d2-4544-80d0-4c522f5d53f5 button.colab-df-convert');\n",
              "        buttonEl.style.display =\n",
              "          google.colab.kernel.accessAllowed ? 'block' : 'none';\n",
              "\n",
              "        async function convertToInteractive(key) {\n",
              "          const element = document.querySelector('#df-10e35340-84d2-4544-80d0-4c522f5d53f5');\n",
              "          const dataTable =\n",
              "            await google.colab.kernel.invokeFunction('convertToInteractive',\n",
              "                                                     [key], {});\n",
              "          if (!dataTable) return;\n",
              "\n",
              "          const docLinkHtml = 'Like what you see? Visit the ' +\n",
              "            '<a target=\"_blank\" href=https://colab.research.google.com/notebooks/data_table.ipynb>data table notebook</a>'\n",
              "            + ' to learn more about interactive tables.';\n",
              "          element.innerHTML = '';\n",
              "          dataTable['output_type'] = 'display_data';\n",
              "          await google.colab.output.renderOutput(dataTable, element);\n",
              "          const docLink = document.createElement('div');\n",
              "          docLink.innerHTML = docLinkHtml;\n",
              "          element.appendChild(docLink);\n",
              "        }\n",
              "      </script>\n",
              "    </div>\n",
              "  </div>\n",
              "  "
            ]
          },
          "metadata": {},
          "execution_count": 18
        }
      ],
      "source": [
        "data2=pd.read_csv(\"classification_in_asteroseismology.csv\")\n",
        "data2.head()"
      ]
    },
    {
      "cell_type": "markdown",
      "metadata": {
        "id": "BBwgjuYXhH5W"
      },
      "source": [
        "*   **DESKRIPSI DATA**\n",
        "*   Dnu F8.5 (uHz) :Rata-rata pemisahan frekuensi besar dari mode dengan derajat yang sama dan urutan berurutan, {DELTA}nu\n",
        "*   numax F9.5 (uHz) : Frekuensi daya osilasi maksimum\n",
        "*   epsilon F7.3 : Lokasi mode l=0 (2)\n",
        "*   Pop: [0/1] Population (1) : 0 = RGB\n",
        "1 = HeB\n",
        "RGB (Red Giant Branch)\n",
        "HeB (Helium Burning)"
      ]
    },
    {
      "cell_type": "markdown",
      "metadata": {
        "id": "J-gQOO9WhpCc"
      },
      "source": [
        "Memisahkan kolom fitur dan kolom kelas"
      ]
    },
    {
      "cell_type": "code",
      "execution_count": null,
      "metadata": {
        "id": "jYzY4mOMhX2a"
      },
      "outputs": [],
      "source": [
        "p=[\"Dnu\",\"numax\",\"epsilon\"]\n",
        "q=['POP']\n",
        "fitur2=data2[p]\n",
        "kelas2=data2[q]"
      ]
    },
    {
      "cell_type": "markdown",
      "metadata": {
        "id": "0iVTpF32htTd"
      },
      "source": [
        "Cek apakah ada nilai pada kolom fitur yang bernilai 0"
      ]
    },
    {
      "cell_type": "code",
      "execution_count": null,
      "metadata": {
        "colab": {
          "base_uri": "https://localhost:8080/"
        },
        "id": "LHbO8UiKhrdW",
        "outputId": "f86f76c2-f337-41d1-e8df-cb24f130c1ef"
      },
      "outputs": [
        {
          "output_type": "execute_result",
          "data": {
            "text/plain": [
              "POP        288\n",
              "Dnu          0\n",
              "numax        0\n",
              "epsilon      0\n",
              "dtype: int64"
            ]
          },
          "metadata": {},
          "execution_count": 20
        }
      ],
      "source": [
        "count = (data2== 0).sum()\n",
        "count"
      ]
    },
    {
      "cell_type": "markdown",
      "metadata": {
        "id": "cDgDlhiUh9ik"
      },
      "source": [
        "Cek apakah data merupakan data imbalanced atau data balanced"
      ]
    },
    {
      "cell_type": "code",
      "execution_count": null,
      "metadata": {
        "colab": {
          "base_uri": "https://localhost:8080/"
        },
        "id": "14Vel-O0h65B",
        "outputId": "4599778d-4b17-4180-cb4c-2ad83aa973cd"
      },
      "outputs": [
        {
          "output_type": "stream",
          "name": "stdout",
          "text": [
            "Jumlah class 0 =  POP    288\n",
            "dtype: int64\n",
            "Jumlah class 1 =  POP    713\n",
            "dtype: int64\n"
          ]
        }
      ],
      "source": [
        "countClass0 = (kelas2 == 0).sum()\n",
        "countClass1 = (kelas2 == 1).sum()\n",
        "print(\"Jumlah class 0 = \",countClass0)\n",
        "print(\"Jumlah class 1 = \",countClass1)"
      ]
    },
    {
      "cell_type": "code",
      "execution_count": null,
      "metadata": {
        "colab": {
          "base_uri": "https://localhost:8080/",
          "height": 264
        },
        "id": "q2-rNbSXiGqs",
        "outputId": "e966cfde-e055-4476-d2fa-0a95c488c3cb"
      },
      "outputs": [
        {
          "output_type": "display_data",
          "data": {
            "text/plain": [
              "<Figure size 432x288 with 1 Axes>"
            ],
            "image/png": "[encoded data removed]"
          },
          "metadata": {}
        }
      ],
      "source": [
        "ax=kelas2.value_counts().plot.pie(autopct='%.2f')\n",
        "_=ax.set_title(\"sebelum undersampling\")"
      ]
    },
    {
      "cell_type": "markdown",
      "metadata": {
        "id": "lfPOOMxUkEoX"
      },
      "source": [
        "Untuk menghandle imbalanced data terdapat beberapa cara, seperti oversampling dan undersampling dengan tujuan jumlah kelas mayoritas menjadi sama dengan kelas minoritas dengan mengurangi ukuran kelas mayoritas. Saya memilih untuk menggunakan metode undersampling nearmiss karena saat saya coba, akurasi tidak berubah (tetap)."
      ]
    },
    {
      "cell_type": "code",
      "execution_count": null,
      "metadata": {
        "colab": {
          "base_uri": "https://localhost:8080/",
          "height": 248
        },
        "id": "BUmInAMBkFrG",
        "outputId": "25a15fb4-6dde-4bdc-8603-6e0be5f6012f"
      },
      "outputs": [
        {
          "output_type": "display_data",
          "data": {
            "text/plain": [
              "<Figure size 432x288 with 1 Axes>"
            ],
            "image/png": "[encoded data removed]"
          },
          "metadata": {}
        }
      ],
      "source": [
        "from imblearn.under_sampling import NearMiss\n",
        "\n",
        "nm = NearMiss()\n",
        "x_res2, y_res2 =nm.fit_resample(fitur2, kelas2)\n",
        "\n",
        "ax2=y_res2.value_counts().plot.pie(autopct='%.2f')\n",
        "_=ax.set_title(\"Setelah UnderSampling\")"
      ]
    },
    {
      "cell_type": "code",
      "execution_count": null,
      "metadata": {
        "colab": {
          "base_uri": "https://localhost:8080/"
        },
        "id": "4j5E8GOHkXZT",
        "outputId": "e3007f6f-4955-4fb6-93af-38976fd19166"
      },
      "outputs": [
        {
          "output_type": "stream",
          "name": "stdout",
          "text": [
            "Jumlah class 0 =  POP    288\n",
            "dtype: int64\n",
            "Jumlah class 1 =  POP    288\n",
            "dtype: int64\n"
          ]
        }
      ],
      "source": [
        "countClass0 = (y_res2 == 0).sum()\n",
        "countClass1 = (y_res2 == 1).sum()\n",
        "print(\"Jumlah class 0 = \",countClass0)\n",
        "print(\"Jumlah class 1 = \",countClass1)"
      ]
    },
    {
      "cell_type": "markdown",
      "metadata": {
        "id": "wYPttcC5YgqC"
      },
      "source": [
        "Setelah dilakukan undersampling, ukuran kelas minoritas menjadi sama dengan ukuran kelas mayoritas, kelas mayoritas ukurannya mengecil"
      ]
    },
    {
      "cell_type": "markdown",
      "metadata": {
        "id": "3B_5fM4wYmJ6"
      },
      "source": [
        "Memisahkan data untuk training dan untuk testing. 80% untuk training dan 20% untuk testing"
      ]
    },
    {
      "cell_type": "code",
      "execution_count": null,
      "metadata": {
        "id": "4trnYYuIkgKt"
      },
      "outputs": [],
      "source": [
        "from sklearn.model_selection import train_test_split\n",
        "X_train2, X_test2, Y_train2, Y_test2 = train_test_split(x_res2, y_res2, test_size=0.2, random_state=0)"
      ]
    },
    {
      "cell_type": "markdown",
      "metadata": {
        "id": "tEcWkbZRYr3s"
      },
      "source": [
        "# SVM"
      ]
    },
    {
      "cell_type": "markdown",
      "metadata": {
        "id": "-5AJ-bXXYttO"
      },
      "source": [
        "Membuat model Support Vector Machine dengan kernel linear"
      ]
    },
    {
      "cell_type": "code",
      "execution_count": null,
      "metadata": {
        "id": "Xe4iVvoRktpc"
      },
      "outputs": [],
      "source": [
        "from sklearn.svm import SVC\n",
        "svm_model = SVC(kernel = \"linear\").fit(X_train2, Y_train2.values.ravel())"
      ]
    },
    {
      "cell_type": "markdown",
      "metadata": {
        "id": "doyXQuCQYx5p"
      },
      "source": [
        "Mencetak f1 score"
      ]
    },
    {
      "cell_type": "code",
      "execution_count": null,
      "metadata": {
        "colab": {
          "base_uri": "https://localhost:8080/"
        },
        "id": "6tTOBcJCMQNz",
        "outputId": "83e27f6c-b698-4a9c-af02-d6f6a2f94ffa"
      },
      "outputs": [
        {
          "output_type": "execute_result",
          "data": {
            "text/plain": [
              "0.9322033898305084"
            ]
          },
          "metadata": {},
          "execution_count": 27
        }
      ],
      "source": [
        "y_pred2 = svm_model.predict(X_test2)\n",
        "f1_2=f1_score(Y_test2,y_pred2)\n",
        "f1_2"
      ]
    },
    {
      "cell_type": "markdown",
      "metadata": {
        "id": "NyxblwUJY0j2"
      },
      "source": [
        "Mencetak nilai akurasi"
      ]
    },
    {
      "cell_type": "code",
      "execution_count": null,
      "metadata": {
        "colab": {
          "base_uri": "https://localhost:8080/"
        },
        "id": "DmUyOSpdMxo9",
        "outputId": "95b6f26e-ca70-4464-858c-9ff73a6afcf8"
      },
      "outputs": [
        {
          "output_type": "stream",
          "name": "stdout",
          "text": [
            "Accuracy: 0.9310344827586207\n"
          ]
        }
      ],
      "source": [
        "print(\"Accuracy:\",metrics.accuracy_score(Y_test2, y_pred2))"
      ]
    },
    {
      "cell_type": "markdown",
      "metadata": {
        "id": "VDjnz3itYeGm"
      },
      "source": [
        "menggunakan 2\n",
        "hidden layer dengan masing-masing 10 neuron dengan fungsi aktivasi logistic"
      ]
    },
    {
      "cell_type": "code",
      "execution_count": null,
      "metadata": {
        "colab": {
          "base_uri": "https://localhost:8080/"
        },
        "id": "jHbwN3qyL9Gs",
        "outputId": "7d69374c-bac6-47ad-a50b-e08608c916ea"
      },
      "outputs": [
        {
          "output_type": "execute_result",
          "data": {
            "text/plain": [
              "MLPClassifier(activation='logistic', alpha=1e-05, hidden_layer_sizes=(10, 10),\n",
              "              max_iter=1000, random_state=0, solver='lbfgs')"
            ]
          },
          "metadata": {},
          "execution_count": 29
        }
      ],
      "source": [
        "from sklearn.neural_network import MLPClassifier\n",
        "clf = MLPClassifier(activation='logistic', solver='lbfgs', alpha=1e-5,\n",
        " hidden_layer_sizes=(10, 10),random_state=0, max_iter=1000)\n",
        "clf.fit(X_train2, Y_train2.values.ravel())"
      ]
    },
    {
      "cell_type": "code",
      "execution_count": null,
      "metadata": {
        "colab": {
          "base_uri": "https://localhost:8080/"
        },
        "id": "ysAbTtPDMHNd",
        "outputId": "af100db9-4d10-491e-cfee-2cc982c6f5f4"
      },
      "outputs": [
        {
          "output_type": "execute_result",
          "data": {
            "text/plain": [
              "0.9478260869565217"
            ]
          },
          "metadata": {},
          "execution_count": 30
        }
      ],
      "source": [
        "ymodel3=clf.predict(X_train2)\n",
        "accuracy_score(Y_train2,ymodel3)"
      ]
    },
    {
      "cell_type": "code",
      "source": [
        "data.dtypes"
      ],
      "metadata": {
        "colab": {
          "base_uri": "https://localhost:8080/"
        },
        "id": "jS1lF1kKXBnu",
        "outputId": "99f7a351-35e3-4207-fbe3-5cd36dce04d1"
      },
      "execution_count": null,
      "outputs": [
        {
          "output_type": "execute_result",
          "data": {
            "text/plain": [
              "Pregnancies                 float64\n",
              "Glucose                     float64\n",
              "BloodPressure               float64\n",
              "SkinThickness               float64\n",
              "Insulin                     float64\n",
              "BMI                         float64\n",
              "DiabetesPedigreeFunction    float64\n",
              "Age                         float64\n",
              "Outcome                       int64\n",
              "dtype: object"
            ]
          },
          "metadata": {},
          "execution_count": 31
        }
      ]
    },
    {
      "cell_type": "code",
      "source": [
        "data2.dtypes"
      ],
      "metadata": {
        "colab": {
          "base_uri": "https://localhost:8080/"
        },
        "id": "MZ0lgVzVXEbv",
        "outputId": "317696f2-6590-4ace-c6be-2705c7203ddb"
      },
      "execution_count": null,
      "outputs": [
        {
          "output_type": "execute_result",
          "data": {
            "text/plain": [
              "POP          int64\n",
              "Dnu        float64\n",
              "numax      float64\n",
              "epsilon    float64\n",
              "dtype: object"
            ]
          },
          "metadata": {},
          "execution_count": 32
        }
      ]
    }
  ],
  "metadata": {
    "colab": {
      "collapsed_sections": [],
      "name": "TP6_2010511140_Gilbert Hasiholan_IF-D.ipynb",
      "provenance": []
    },
    "kernelspec": {
      "display_name": "Python 3",
      "name": "python3"
    },
    "language_info": {
      "name": "python"
    }
  },
  "nbformat": 4,
  "nbformat_minor": 0
}